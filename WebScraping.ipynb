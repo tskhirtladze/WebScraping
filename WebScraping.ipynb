{
  "nbformat": 4,
  "nbformat_minor": 0,
  "metadata": {
    "colab": {
      "provenance": []
    },
    "kernelspec": {
      "name": "python3",
      "display_name": "Python 3"
    },
    "language_info": {
      "name": "python"
    }
  },
  "cells": [
    {
      "cell_type": "code",
      "source": [
        "import requests\n",
        "from bs4 import BeautifulSoup\n",
        "import pandas as pd\n",
        "import re"
      ],
      "metadata": {
        "id": "QdEGZ_wGW2nl"
      },
      "execution_count": null,
      "outputs": []
    },
    {
      "cell_type": "markdown",
      "source": [
        "# General Information"
      ],
      "metadata": {
        "id": "oKkI7DBba_py"
      }
    },
    {
      "cell_type": "code",
      "source": [
        "url = 'https://www.geostat.ge/ka'\n",
        "response = requests.get(url)\n",
        "\n",
        "# Check if the request was successful (status code 200)\n",
        "if response.status_code == 200:\n",
        "    html = response.text\n",
        "    print(html)  # This will print the HTML content of the page\n",
        "else:\n",
        "    print(f'Failed to retrieve webpage. Status code: {response.status_code}')\n"
      ],
      "metadata": {
        "id": "nCI4NRLYYc8o"
      },
      "execution_count": null,
      "outputs": []
    },
    {
      "cell_type": "code",
      "source": [
        "\n",
        "\n",
        "# Parse the HTML content\n",
        "soup = BeautifulSoup(html, 'html.parser')\n",
        "\n",
        "# Example: Extract all links, h3 tags and p tags from the page within a specific section class\n",
        "links = soup.find_all('section', class_='home-statistic-category')\n",
        "links_list = []\n",
        "h3_list = []\n",
        "p_list = []\n",
        "for link in links:\n",
        "    # 'href' attribute is inside 'a' tags within 'section' tags\n",
        "    for a_tag in link.find_all('a'):\n",
        "      links_list.append(a_tag.get('href'))\n",
        "\n",
        "    for h3 in link.find_all('h3'):\n",
        "      h3_list.append(h3.get_text(separator='<'))\n",
        "\n",
        "    for value in link.find_all('p'):\n",
        "      myvalue = value.getText(separator='<').replace(\" \", \"\")\n",
        "      p_list.append(float(myvalue))\n",
        "\n",
        "print(links_list)\n",
        "print(h3_list)\n",
        "print(p_list)"
      ],
      "metadata": {
        "id": "M7tr2ON7ixJP"
      },
      "execution_count": null,
      "outputs": []
    },
    {
      "cell_type": "code",
      "source": [
        "\n",
        "data_dict = dict(zip(h3_list, p_list))\n",
        "data = pd.DataFrame(data_dict, index=[0])\n",
        "\n",
        "data"
      ],
      "metadata": {
        "id": "4bGgnW6kqCtl"
      },
      "execution_count": null,
      "outputs": []
    },
    {
      "cell_type": "code",
      "source": [
        "links_list[0]"
      ],
      "metadata": {
        "id": "IVroaj0VNRQS"
      },
      "execution_count": null,
      "outputs": []
    },
    {
      "cell_type": "markdown",
      "source": [
        "## Population"
      ],
      "metadata": {
        "id": "wYMTruji_EWF"
      }
    },
    {
      "cell_type": "code",
      "source": [
        "url = links_list[0]\n",
        "response = requests.get(url)\n",
        "\n",
        "# Check if the request was successful (status code 200)\n",
        "if response.status_code == 200:\n",
        "    html = response.text\n",
        "    print(html)  # This will print the HTML content of the page\n",
        "else:\n",
        "    print(f'Failed to retrieve webpage. Status code: {response.status_code}')\n"
      ],
      "metadata": {
        "id": "h_hQQHj_BSVe"
      },
      "execution_count": null,
      "outputs": []
    },
    {
      "cell_type": "code",
      "source": [
        "# Parse the HTML content with BeautifulSoup\n",
        "soup = BeautifulSoup(html, 'html.parser')\n",
        "\n",
        "# Find the table element\n",
        "table = soup.find('table')\n",
        "\n",
        "def has_georgian(text):\n",
        "    # Regular expression pattern to match Georgian characters\n",
        "    georgian_pattern = re.compile(r'[\\u10A0-\\u10FF\\u1C90-\\u1CBF]+')\n",
        "\n",
        "    # Check if the text matches the Georgian pattern\n",
        "    return bool(georgian_pattern.search(text))\n",
        "\n",
        "indexes = []\n",
        "# Iterate over each <td> tag within the table\n",
        "for row in table.find_all('td'):\n",
        "    value = row.text.strip()  # Extract text and strip whitespace\n",
        "    if has_georgian(value):\n",
        "      indexes.append(value)\n",
        "      print(value)  # Print the string value as is\n"
      ],
      "metadata": {
        "id": "T9AFtSbcJkd0"
      },
      "execution_count": null,
      "outputs": []
    },
    {
      "cell_type": "code",
      "source": [
        "\n",
        "# Read HTML tables into pandas DataFrame\n",
        "dfs = pd.read_html(links_list[0])\n",
        "\n",
        "# Since read_html() returns a list of DataFrames, we assume here there is only one table\n",
        "if dfs:\n",
        "    df = dfs[0]  # Assuming there is only one table in the HTML content\n",
        "    df.columns = df.iloc[0]\n",
        "    df = df.iloc[1:]\n",
        "    print(\"DataFrame from HTML Table:\")\n",
        "    print(df)\n",
        "else:\n",
        "    print(\"No tables found in the HTML content.\")\n"
      ],
      "metadata": {
        "id": "MEwAsXjUJ-bH"
      },
      "execution_count": null,
      "outputs": []
    },
    {
      "cell_type": "code",
      "source": [
        "indexes"
      ],
      "metadata": {
        "id": "BFpP7kyavH-Z"
      },
      "execution_count": null,
      "outputs": []
    },
    {
      "cell_type": "code",
      "source": [
        "df.columns = ['Features', '2016', '2017', '2018', '2019', '2020', '2021', '2022', '2023',\n",
        "       '2024']\n",
        "\n",
        "mydict = {'Features': indexes}\n",
        "\n",
        "df.loc[:, 'Features'] = mydict['Features']\n",
        "\n",
        "df"
      ],
      "metadata": {
        "id": "c9LniuHotYkA"
      },
      "execution_count": null,
      "outputs": []
    },
    {
      "cell_type": "code",
      "source": [
        "def convert_to_float(x):\n",
        "  try:\n",
        "    return float(x.replace(' ', '').replace(',', '.'))\n",
        "  except ValueError:\n",
        "    return None\n",
        "\n",
        "# Convert columns from 2016 to 2024 to floats using .loc\n",
        "for col in df.columns[1:]:  # Exclude the 'Features' column\n",
        "    df.loc[:, col] = df[col].apply(convert_to_float)\n",
        "\n",
        "df"
      ],
      "metadata": {
        "id": "VXZhbZ1Bw-1J"
      },
      "execution_count": null,
      "outputs": []
    },
    {
      "cell_type": "code",
      "source": [
        "import matplotlib.pyplot as plt\n",
        "df.columns = ['Features'] + list(range(2016, 2025))\n",
        "\n",
        "# Transpose the DataFrame for plotting (if needed)\n",
        "df_t = df.transpose()\n",
        "\n",
        "# Extract x (years) and y (values) for plotting\n",
        "x = df_t.columns[1:]  # Years (from 2016 to 2024)\n",
        "y = df_t.iloc[1:, 0]\n",
        "\n",
        "# Plot the data\n",
        "plt.plot(df.columns[1:], y)\n",
        "plt.xlabel('Year')\n",
        "plt.ylabel('Population (Thousands)')\n",
        "plt.title('Population Over Years (Thousands)')\n",
        "plt.xticks(rotation=45)\n",
        "plt.tight_layout()\n",
        "plt.show()\n"
      ],
      "metadata": {
        "id": "g7l86PTXxcEn"
      },
      "execution_count": null,
      "outputs": []
    },
    {
      "cell_type": "code",
      "source": [
        "# Transpose the DataFrame for plotting (if needed)\n",
        "df_t = df.transpose()\n",
        "\n",
        "x = df_t.columns[1:]\n",
        "y = df_t.iloc[1:, 3]\n",
        "\n",
        "# Plot bar chart\n",
        "plt.figure(figsize=(10, 6))\n",
        "bars = plt.bar(df.columns[1:], y)\n",
        "\n",
        "# Add values on top of each bar\n",
        "for bar in bars:\n",
        "    yval = bar.get_height()\n",
        "    plt.text(bar.get_x() + bar.get_width()/2, yval, round(yval, 2), ha='center', va='bottom')\n",
        "\n",
        "# Set title and labels\n",
        "plt.title('Weddings Over Years')\n",
        "plt.ylabel('Weddings')\n",
        "plt.xlabel('Year')\n",
        "plt.grid(axis='y')\n",
        "\n",
        "# Show the plot\n",
        "plt.show()"
      ],
      "metadata": {
        "id": "FZTLSn1wQYih"
      },
      "execution_count": null,
      "outputs": []
    }
  ]
}